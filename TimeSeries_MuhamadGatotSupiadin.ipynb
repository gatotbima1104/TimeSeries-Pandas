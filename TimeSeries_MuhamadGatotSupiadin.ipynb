{
  "nbformat": 4,
  "nbformat_minor": 0,
  "metadata": {
    "colab": {
      "provenance": []
    },
    "kernelspec": {
      "name": "python3",
      "display_name": "Python 3"
    },
    "language_info": {
      "name": "python"
    }
  },
  "cells": [
    {
      "cell_type": "markdown",
      "source": [
        "# **Muhamad Gatot Supiadin**\n",
        "## M183X0343 | M01 - Pengembangan Machine Learning dan Front End Web\n",
        "## Universitas Amikom Yogyakarta , Sleman Yogyakarta"
      ],
      "metadata": {
        "id": "O-Jomm1fbXoX"
      }
    },
    {
      "cell_type": "markdown",
      "source": [
        "## **Time Series-(Gold)**"
      ],
      "metadata": {
        "id": "Wf122jdO_mHk"
      }
    },
    {
      "cell_type": "code",
      "execution_count": 13,
      "metadata": {
        "id": "1643guNnbPdd"
      },
      "outputs": [],
      "source": [
        "import numpy as np\n",
        "import pandas as pd\n",
        "from keras.layers import Dense, LSTM, Bidirectional, Dropout\n",
        "import matplotlib.pyplot as plt\n",
        "import tensorflow as tf"
      ]
    },
    {
      "cell_type": "code",
      "source": [
        "df = pd.read_csv('gold.csv')\n",
        "df"
      ],
      "metadata": {
        "colab": {
          "base_uri": "https://localhost:8080/",
          "height": 424
        },
        "id": "JKGS4YkzbZ1b",
        "outputId": "38ee22e3-c572-4fad-aeb0-70c1db245ab4"
      },
      "execution_count": 15,
      "outputs": [
        {
          "output_type": "execute_result",
          "data": {
            "text/plain": [
              "            Date    Open    High     Low   Close  Volume Currency\n",
              "0     2000-01-04   289.5   289.5   280.0   283.7   21621      USD\n",
              "1     2000-01-05   283.7   285.0   281.0   282.1   25448      USD\n",
              "2     2000-01-06   281.6   282.8   280.2   282.4   19055      USD\n",
              "3     2000-01-07   282.5   284.5   282.0   282.9   11266      USD\n",
              "4     2000-01-10   282.4   283.9   281.8   282.7   30603      USD\n",
              "...          ...     ...     ...     ...     ...     ...      ...\n",
              "5693  2022-08-22  1760.6  1762.1  1740.2  1748.4  142857      USD\n",
              "5694  2022-08-23  1750.0  1767.5  1743.1  1761.2  145260      USD\n",
              "5695  2022-08-24  1761.3  1769.5  1754.8  1761.5  112645      USD\n",
              "5696  2022-08-25  1764.4  1778.8  1763.0  1771.4  117570      USD\n",
              "5697  2022-08-26  1771.8  1772.3  1746.2  1749.8       0      USD\n",
              "\n",
              "[5698 rows x 7 columns]"
            ],
            "text/html": [
              "\n",
              "  <div id=\"df-2e842397-4180-46aa-b8a3-25e7a1b6d585\">\n",
              "    <div class=\"colab-df-container\">\n",
              "      <div>\n",
              "<style scoped>\n",
              "    .dataframe tbody tr th:only-of-type {\n",
              "        vertical-align: middle;\n",
              "    }\n",
              "\n",
              "    .dataframe tbody tr th {\n",
              "        vertical-align: top;\n",
              "    }\n",
              "\n",
              "    .dataframe thead th {\n",
              "        text-align: right;\n",
              "    }\n",
              "</style>\n",
              "<table border=\"1\" class=\"dataframe\">\n",
              "  <thead>\n",
              "    <tr style=\"text-align: right;\">\n",
              "      <th></th>\n",
              "      <th>Date</th>\n",
              "      <th>Open</th>\n",
              "      <th>High</th>\n",
              "      <th>Low</th>\n",
              "      <th>Close</th>\n",
              "      <th>Volume</th>\n",
              "      <th>Currency</th>\n",
              "    </tr>\n",
              "  </thead>\n",
              "  <tbody>\n",
              "    <tr>\n",
              "      <th>0</th>\n",
              "      <td>2000-01-04</td>\n",
              "      <td>289.5</td>\n",
              "      <td>289.5</td>\n",
              "      <td>280.0</td>\n",
              "      <td>283.7</td>\n",
              "      <td>21621</td>\n",
              "      <td>USD</td>\n",
              "    </tr>\n",
              "    <tr>\n",
              "      <th>1</th>\n",
              "      <td>2000-01-05</td>\n",
              "      <td>283.7</td>\n",
              "      <td>285.0</td>\n",
              "      <td>281.0</td>\n",
              "      <td>282.1</td>\n",
              "      <td>25448</td>\n",
              "      <td>USD</td>\n",
              "    </tr>\n",
              "    <tr>\n",
              "      <th>2</th>\n",
              "      <td>2000-01-06</td>\n",
              "      <td>281.6</td>\n",
              "      <td>282.8</td>\n",
              "      <td>280.2</td>\n",
              "      <td>282.4</td>\n",
              "      <td>19055</td>\n",
              "      <td>USD</td>\n",
              "    </tr>\n",
              "    <tr>\n",
              "      <th>3</th>\n",
              "      <td>2000-01-07</td>\n",
              "      <td>282.5</td>\n",
              "      <td>284.5</td>\n",
              "      <td>282.0</td>\n",
              "      <td>282.9</td>\n",
              "      <td>11266</td>\n",
              "      <td>USD</td>\n",
              "    </tr>\n",
              "    <tr>\n",
              "      <th>4</th>\n",
              "      <td>2000-01-10</td>\n",
              "      <td>282.4</td>\n",
              "      <td>283.9</td>\n",
              "      <td>281.8</td>\n",
              "      <td>282.7</td>\n",
              "      <td>30603</td>\n",
              "      <td>USD</td>\n",
              "    </tr>\n",
              "    <tr>\n",
              "      <th>...</th>\n",
              "      <td>...</td>\n",
              "      <td>...</td>\n",
              "      <td>...</td>\n",
              "      <td>...</td>\n",
              "      <td>...</td>\n",
              "      <td>...</td>\n",
              "      <td>...</td>\n",
              "    </tr>\n",
              "    <tr>\n",
              "      <th>5693</th>\n",
              "      <td>2022-08-22</td>\n",
              "      <td>1760.6</td>\n",
              "      <td>1762.1</td>\n",
              "      <td>1740.2</td>\n",
              "      <td>1748.4</td>\n",
              "      <td>142857</td>\n",
              "      <td>USD</td>\n",
              "    </tr>\n",
              "    <tr>\n",
              "      <th>5694</th>\n",
              "      <td>2022-08-23</td>\n",
              "      <td>1750.0</td>\n",
              "      <td>1767.5</td>\n",
              "      <td>1743.1</td>\n",
              "      <td>1761.2</td>\n",
              "      <td>145260</td>\n",
              "      <td>USD</td>\n",
              "    </tr>\n",
              "    <tr>\n",
              "      <th>5695</th>\n",
              "      <td>2022-08-24</td>\n",
              "      <td>1761.3</td>\n",
              "      <td>1769.5</td>\n",
              "      <td>1754.8</td>\n",
              "      <td>1761.5</td>\n",
              "      <td>112645</td>\n",
              "      <td>USD</td>\n",
              "    </tr>\n",
              "    <tr>\n",
              "      <th>5696</th>\n",
              "      <td>2022-08-25</td>\n",
              "      <td>1764.4</td>\n",
              "      <td>1778.8</td>\n",
              "      <td>1763.0</td>\n",
              "      <td>1771.4</td>\n",
              "      <td>117570</td>\n",
              "      <td>USD</td>\n",
              "    </tr>\n",
              "    <tr>\n",
              "      <th>5697</th>\n",
              "      <td>2022-08-26</td>\n",
              "      <td>1771.8</td>\n",
              "      <td>1772.3</td>\n",
              "      <td>1746.2</td>\n",
              "      <td>1749.8</td>\n",
              "      <td>0</td>\n",
              "      <td>USD</td>\n",
              "    </tr>\n",
              "  </tbody>\n",
              "</table>\n",
              "<p>5698 rows × 7 columns</p>\n",
              "</div>\n",
              "      <button class=\"colab-df-convert\" onclick=\"convertToInteractive('df-2e842397-4180-46aa-b8a3-25e7a1b6d585')\"\n",
              "              title=\"Convert this dataframe to an interactive table.\"\n",
              "              style=\"display:none;\">\n",
              "        \n",
              "  <svg xmlns=\"http://www.w3.org/2000/svg\" height=\"24px\"viewBox=\"0 0 24 24\"\n",
              "       width=\"24px\">\n",
              "    <path d=\"M0 0h24v24H0V0z\" fill=\"none\"/>\n",
              "    <path d=\"M18.56 5.44l.94 2.06.94-2.06 2.06-.94-2.06-.94-.94-2.06-.94 2.06-2.06.94zm-11 1L8.5 8.5l.94-2.06 2.06-.94-2.06-.94L8.5 2.5l-.94 2.06-2.06.94zm10 10l.94 2.06.94-2.06 2.06-.94-2.06-.94-.94-2.06-.94 2.06-2.06.94z\"/><path d=\"M17.41 7.96l-1.37-1.37c-.4-.4-.92-.59-1.43-.59-.52 0-1.04.2-1.43.59L10.3 9.45l-7.72 7.72c-.78.78-.78 2.05 0 2.83L4 21.41c.39.39.9.59 1.41.59.51 0 1.02-.2 1.41-.59l7.78-7.78 2.81-2.81c.8-.78.8-2.07 0-2.86zM5.41 20L4 18.59l7.72-7.72 1.47 1.35L5.41 20z\"/>\n",
              "  </svg>\n",
              "      </button>\n",
              "      \n",
              "  <style>\n",
              "    .colab-df-container {\n",
              "      display:flex;\n",
              "      flex-wrap:wrap;\n",
              "      gap: 12px;\n",
              "    }\n",
              "\n",
              "    .colab-df-convert {\n",
              "      background-color: #E8F0FE;\n",
              "      border: none;\n",
              "      border-radius: 50%;\n",
              "      cursor: pointer;\n",
              "      display: none;\n",
              "      fill: #1967D2;\n",
              "      height: 32px;\n",
              "      padding: 0 0 0 0;\n",
              "      width: 32px;\n",
              "    }\n",
              "\n",
              "    .colab-df-convert:hover {\n",
              "      background-color: #E2EBFA;\n",
              "      box-shadow: 0px 1px 2px rgba(60, 64, 67, 0.3), 0px 1px 3px 1px rgba(60, 64, 67, 0.15);\n",
              "      fill: #174EA6;\n",
              "    }\n",
              "\n",
              "    [theme=dark] .colab-df-convert {\n",
              "      background-color: #3B4455;\n",
              "      fill: #D2E3FC;\n",
              "    }\n",
              "\n",
              "    [theme=dark] .colab-df-convert:hover {\n",
              "      background-color: #434B5C;\n",
              "      box-shadow: 0px 1px 3px 1px rgba(0, 0, 0, 0.15);\n",
              "      filter: drop-shadow(0px 1px 2px rgba(0, 0, 0, 0.3));\n",
              "      fill: #FFFFFF;\n",
              "    }\n",
              "  </style>\n",
              "\n",
              "      <script>\n",
              "        const buttonEl =\n",
              "          document.querySelector('#df-2e842397-4180-46aa-b8a3-25e7a1b6d585 button.colab-df-convert');\n",
              "        buttonEl.style.display =\n",
              "          google.colab.kernel.accessAllowed ? 'block' : 'none';\n",
              "\n",
              "        async function convertToInteractive(key) {\n",
              "          const element = document.querySelector('#df-2e842397-4180-46aa-b8a3-25e7a1b6d585');\n",
              "          const dataTable =\n",
              "            await google.colab.kernel.invokeFunction('convertToInteractive',\n",
              "                                                     [key], {});\n",
              "          if (!dataTable) return;\n",
              "\n",
              "          const docLinkHtml = 'Like what you see? Visit the ' +\n",
              "            '<a target=\"_blank\" href=https://colab.research.google.com/notebooks/data_table.ipynb>data table notebook</a>'\n",
              "            + ' to learn more about interactive tables.';\n",
              "          element.innerHTML = '';\n",
              "          dataTable['output_type'] = 'display_data';\n",
              "          await google.colab.output.renderOutput(dataTable, element);\n",
              "          const docLink = document.createElement('div');\n",
              "          docLink.innerHTML = docLinkHtml;\n",
              "          element.appendChild(docLink);\n",
              "        }\n",
              "      </script>\n",
              "    </div>\n",
              "  </div>\n",
              "  "
            ]
          },
          "metadata": {},
          "execution_count": 15
        }
      ]
    },
    {
      "cell_type": "code",
      "source": [
        "df.shape"
      ],
      "metadata": {
        "colab": {
          "base_uri": "https://localhost:8080/"
        },
        "id": "iYJJfSoYbZyS",
        "outputId": "624d825f-f98c-42fc-fd93-1f64747bfa8c"
      },
      "execution_count": 16,
      "outputs": [
        {
          "output_type": "execute_result",
          "data": {
            "text/plain": [
              "(5698, 7)"
            ]
          },
          "metadata": {},
          "execution_count": 16
        }
      ]
    },
    {
      "cell_type": "code",
      "source": [
        "df.isnull().sum()"
      ],
      "metadata": {
        "colab": {
          "base_uri": "https://localhost:8080/"
        },
        "id": "lWLaubmGbZvf",
        "outputId": "262c3c30-d8e9-43da-c5e5-910061ccf9c5"
      },
      "execution_count": 17,
      "outputs": [
        {
          "output_type": "execute_result",
          "data": {
            "text/plain": [
              "Date        0\n",
              "Open        0\n",
              "High        0\n",
              "Low         0\n",
              "Close       0\n",
              "Volume      0\n",
              "Currency    0\n",
              "dtype: int64"
            ]
          },
          "metadata": {},
          "execution_count": 17
        }
      ]
    },
    {
      "cell_type": "code",
      "source": [
        "cols = [0,1]\n",
        "df = df[df.columns[cols]]\n",
        "df"
      ],
      "metadata": {
        "colab": {
          "base_uri": "https://localhost:8080/",
          "height": 424
        },
        "id": "5V8kTMezktGR",
        "outputId": "339f0b5a-e259-48a8-e6dd-cdc260ef6249"
      },
      "execution_count": 18,
      "outputs": [
        {
          "output_type": "execute_result",
          "data": {
            "text/plain": [
              "            Date    Open\n",
              "0     2000-01-04   289.5\n",
              "1     2000-01-05   283.7\n",
              "2     2000-01-06   281.6\n",
              "3     2000-01-07   282.5\n",
              "4     2000-01-10   282.4\n",
              "...          ...     ...\n",
              "5693  2022-08-22  1760.6\n",
              "5694  2022-08-23  1750.0\n",
              "5695  2022-08-24  1761.3\n",
              "5696  2022-08-25  1764.4\n",
              "5697  2022-08-26  1771.8\n",
              "\n",
              "[5698 rows x 2 columns]"
            ],
            "text/html": [
              "\n",
              "  <div id=\"df-22710c26-3791-4884-97b4-bb7281c4004f\">\n",
              "    <div class=\"colab-df-container\">\n",
              "      <div>\n",
              "<style scoped>\n",
              "    .dataframe tbody tr th:only-of-type {\n",
              "        vertical-align: middle;\n",
              "    }\n",
              "\n",
              "    .dataframe tbody tr th {\n",
              "        vertical-align: top;\n",
              "    }\n",
              "\n",
              "    .dataframe thead th {\n",
              "        text-align: right;\n",
              "    }\n",
              "</style>\n",
              "<table border=\"1\" class=\"dataframe\">\n",
              "  <thead>\n",
              "    <tr style=\"text-align: right;\">\n",
              "      <th></th>\n",
              "      <th>Date</th>\n",
              "      <th>Open</th>\n",
              "    </tr>\n",
              "  </thead>\n",
              "  <tbody>\n",
              "    <tr>\n",
              "      <th>0</th>\n",
              "      <td>2000-01-04</td>\n",
              "      <td>289.5</td>\n",
              "    </tr>\n",
              "    <tr>\n",
              "      <th>1</th>\n",
              "      <td>2000-01-05</td>\n",
              "      <td>283.7</td>\n",
              "    </tr>\n",
              "    <tr>\n",
              "      <th>2</th>\n",
              "      <td>2000-01-06</td>\n",
              "      <td>281.6</td>\n",
              "    </tr>\n",
              "    <tr>\n",
              "      <th>3</th>\n",
              "      <td>2000-01-07</td>\n",
              "      <td>282.5</td>\n",
              "    </tr>\n",
              "    <tr>\n",
              "      <th>4</th>\n",
              "      <td>2000-01-10</td>\n",
              "      <td>282.4</td>\n",
              "    </tr>\n",
              "    <tr>\n",
              "      <th>...</th>\n",
              "      <td>...</td>\n",
              "      <td>...</td>\n",
              "    </tr>\n",
              "    <tr>\n",
              "      <th>5693</th>\n",
              "      <td>2022-08-22</td>\n",
              "      <td>1760.6</td>\n",
              "    </tr>\n",
              "    <tr>\n",
              "      <th>5694</th>\n",
              "      <td>2022-08-23</td>\n",
              "      <td>1750.0</td>\n",
              "    </tr>\n",
              "    <tr>\n",
              "      <th>5695</th>\n",
              "      <td>2022-08-24</td>\n",
              "      <td>1761.3</td>\n",
              "    </tr>\n",
              "    <tr>\n",
              "      <th>5696</th>\n",
              "      <td>2022-08-25</td>\n",
              "      <td>1764.4</td>\n",
              "    </tr>\n",
              "    <tr>\n",
              "      <th>5697</th>\n",
              "      <td>2022-08-26</td>\n",
              "      <td>1771.8</td>\n",
              "    </tr>\n",
              "  </tbody>\n",
              "</table>\n",
              "<p>5698 rows × 2 columns</p>\n",
              "</div>\n",
              "      <button class=\"colab-df-convert\" onclick=\"convertToInteractive('df-22710c26-3791-4884-97b4-bb7281c4004f')\"\n",
              "              title=\"Convert this dataframe to an interactive table.\"\n",
              "              style=\"display:none;\">\n",
              "        \n",
              "  <svg xmlns=\"http://www.w3.org/2000/svg\" height=\"24px\"viewBox=\"0 0 24 24\"\n",
              "       width=\"24px\">\n",
              "    <path d=\"M0 0h24v24H0V0z\" fill=\"none\"/>\n",
              "    <path d=\"M18.56 5.44l.94 2.06.94-2.06 2.06-.94-2.06-.94-.94-2.06-.94 2.06-2.06.94zm-11 1L8.5 8.5l.94-2.06 2.06-.94-2.06-.94L8.5 2.5l-.94 2.06-2.06.94zm10 10l.94 2.06.94-2.06 2.06-.94-2.06-.94-.94-2.06-.94 2.06-2.06.94z\"/><path d=\"M17.41 7.96l-1.37-1.37c-.4-.4-.92-.59-1.43-.59-.52 0-1.04.2-1.43.59L10.3 9.45l-7.72 7.72c-.78.78-.78 2.05 0 2.83L4 21.41c.39.39.9.59 1.41.59.51 0 1.02-.2 1.41-.59l7.78-7.78 2.81-2.81c.8-.78.8-2.07 0-2.86zM5.41 20L4 18.59l7.72-7.72 1.47 1.35L5.41 20z\"/>\n",
              "  </svg>\n",
              "      </button>\n",
              "      \n",
              "  <style>\n",
              "    .colab-df-container {\n",
              "      display:flex;\n",
              "      flex-wrap:wrap;\n",
              "      gap: 12px;\n",
              "    }\n",
              "\n",
              "    .colab-df-convert {\n",
              "      background-color: #E8F0FE;\n",
              "      border: none;\n",
              "      border-radius: 50%;\n",
              "      cursor: pointer;\n",
              "      display: none;\n",
              "      fill: #1967D2;\n",
              "      height: 32px;\n",
              "      padding: 0 0 0 0;\n",
              "      width: 32px;\n",
              "    }\n",
              "\n",
              "    .colab-df-convert:hover {\n",
              "      background-color: #E2EBFA;\n",
              "      box-shadow: 0px 1px 2px rgba(60, 64, 67, 0.3), 0px 1px 3px 1px rgba(60, 64, 67, 0.15);\n",
              "      fill: #174EA6;\n",
              "    }\n",
              "\n",
              "    [theme=dark] .colab-df-convert {\n",
              "      background-color: #3B4455;\n",
              "      fill: #D2E3FC;\n",
              "    }\n",
              "\n",
              "    [theme=dark] .colab-df-convert:hover {\n",
              "      background-color: #434B5C;\n",
              "      box-shadow: 0px 1px 3px 1px rgba(0, 0, 0, 0.15);\n",
              "      filter: drop-shadow(0px 1px 2px rgba(0, 0, 0, 0.3));\n",
              "      fill: #FFFFFF;\n",
              "    }\n",
              "  </style>\n",
              "\n",
              "      <script>\n",
              "        const buttonEl =\n",
              "          document.querySelector('#df-22710c26-3791-4884-97b4-bb7281c4004f button.colab-df-convert');\n",
              "        buttonEl.style.display =\n",
              "          google.colab.kernel.accessAllowed ? 'block' : 'none';\n",
              "\n",
              "        async function convertToInteractive(key) {\n",
              "          const element = document.querySelector('#df-22710c26-3791-4884-97b4-bb7281c4004f');\n",
              "          const dataTable =\n",
              "            await google.colab.kernel.invokeFunction('convertToInteractive',\n",
              "                                                     [key], {});\n",
              "          if (!dataTable) return;\n",
              "\n",
              "          const docLinkHtml = 'Like what you see? Visit the ' +\n",
              "            '<a target=\"_blank\" href=https://colab.research.google.com/notebooks/data_table.ipynb>data table notebook</a>'\n",
              "            + ' to learn more about interactive tables.';\n",
              "          element.innerHTML = '';\n",
              "          dataTable['output_type'] = 'display_data';\n",
              "          await google.colab.output.renderOutput(dataTable, element);\n",
              "          const docLink = document.createElement('div');\n",
              "          docLink.innerHTML = docLinkHtml;\n",
              "          element.appendChild(docLink);\n",
              "        }\n",
              "      </script>\n",
              "    </div>\n",
              "  </div>\n",
              "  "
            ]
          },
          "metadata": {},
          "execution_count": 18
        }
      ]
    },
    {
      "cell_type": "code",
      "source": [
        "df.info()"
      ],
      "metadata": {
        "colab": {
          "base_uri": "https://localhost:8080/"
        },
        "id": "HE5ah0rKkuxr",
        "outputId": "ac222e93-26df-4d29-b184-7c81ace4f7de"
      },
      "execution_count": 7,
      "outputs": [
        {
          "output_type": "stream",
          "name": "stdout",
          "text": [
            "<class 'pandas.core.frame.DataFrame'>\n",
            "RangeIndex: 5698 entries, 0 to 5697\n",
            "Data columns (total 2 columns):\n",
            " #   Column  Non-Null Count  Dtype  \n",
            "---  ------  --------------  -----  \n",
            " 0   Date    5698 non-null   object \n",
            " 1   Open    5698 non-null   float64\n",
            "dtypes: float64(1), object(1)\n",
            "memory usage: 89.2+ KB\n"
          ]
        }
      ]
    },
    {
      "cell_type": "markdown",
      "source": [
        "**Making Plot**"
      ],
      "metadata": {
        "id": "GLtgIyQEkMGc"
      }
    },
    {
      "cell_type": "code",
      "source": [
        "dates = df['Date'].values\n",
        "prices  = df['Open'].values\n",
        " \n",
        " \n",
        "plt.figure(figsize=(20,5))\n",
        "plt.plot(dates, prices)\n",
        "plt.title('Price average',\n",
        "          fontsize=20);"
      ],
      "metadata": {
        "colab": {
          "base_uri": "https://localhost:8080/",
          "height": 341
        },
        "id": "nFeixa1TbZTN",
        "outputId": "cd8dced4-cff7-4fb2-d6f5-79c9a40304da"
      },
      "execution_count": 8,
      "outputs": [
        {
          "output_type": "display_data",
          "data": {
            "text/plain": [
              "<Figure size 1440x360 with 1 Axes>"
            ],
            "image/png": "[encoded data removed]"
          },
          "metadata": {
            "needs_background": "light"
          }
        }
      ]
    },
    {
      "cell_type": "markdown",
      "source": [
        "**Converting Data**"
      ],
      "metadata": {
        "id": "OitlLYCp--5k"
      }
    },
    {
      "cell_type": "code",
      "source": [
        "from sklearn.preprocessing import MinMaxScaler\n",
        "prices = prices.reshape(-1, 1)\n",
        "\n",
        "mm_scaler = MinMaxScaler()\n",
        "scaled_prices = mm_scaler.fit_transform(prices)\n",
        "scaled_prices = scaled_prices.reshape(1, -1)\n",
        "scaled_prices = np.hstack(scaled_prices)\n",
        "scaled_prices"
      ],
      "metadata": {
        "colab": {
          "base_uri": "https://localhost:8080/"
        },
        "id": "-U4O5qIBnLmQ",
        "outputId": "709a04ec-0ab0-473a-df66-9677968944a3"
      },
      "execution_count": 23,
      "outputs": [
        {
          "output_type": "execute_result",
          "data": {
            "text/plain": [
              "array([0.01807891, 0.01489175, 0.01373777, ..., 0.8268491 , 0.82855259,\n",
              "       0.83261897])"
            ]
          },
          "metadata": {},
          "execution_count": 23
        }
      ]
    },
    {
      "cell_type": "markdown",
      "source": [
        "**Splitting Dataset**"
      ],
      "metadata": {
        "id": "7GjnDE71-q9_"
      }
    },
    {
      "cell_type": "code",
      "source": [
        "from sklearn.model_selection import train_test_split\n",
        "\n",
        "X_train, X_test, y_train, y_test = train_test_split(dates, \n",
        "                                                    scaled_prices, \n",
        "                                                    test_size=0.2, \n",
        "                                                    random_state=1, \n",
        "                                                    shuffle=False)\n",
        "\n",
        "print(len(X_train), len(X_test))"
      ],
      "metadata": {
        "colab": {
          "base_uri": "https://localhost:8080/"
        },
        "id": "jel8ZKHuoF03",
        "outputId": "38bb5437-3352-40d9-920c-cfd4a3b35f53"
      },
      "execution_count": 26,
      "outputs": [
        {
          "output_type": "stream",
          "name": "stdout",
          "text": [
            "4558 1140\n"
          ]
        }
      ]
    },
    {
      "cell_type": "code",
      "source": [
        "def windowed_dataset(series, window_size, batch_size, shuffle_buffer):\n",
        "    series = tf.expand_dims(series, axis=-1)\n",
        "    ds = tf.data.Dataset.from_tensor_slices(series)\n",
        "    ds = ds.window(window_size + 1, shift=1, drop_remainder=True)\n",
        "    ds = ds.flat_map(lambda w: w.batch(window_size + 1))\n",
        "    ds = ds.shuffle(shuffle_buffer)\n",
        "    ds = ds.map(lambda w: (w[:-1], w[-1:]))\n",
        "    return ds.batch(batch_size).prefetch(1)"
      ],
      "metadata": {
        "id": "erGbW86OoYm_"
      },
      "execution_count": 27,
      "outputs": []
    },
    {
      "cell_type": "code",
      "source": [
        "def model_forecast(model, series, window_size):\n",
        "    ds = tf.data.Dataset.from_tensor_slices(series)\n",
        "    ds = ds.window(window_size, shift=1, drop_remainder=True)\n",
        "    ds = ds.flat_map(lambda w: w.batch(window_size))\n",
        "    ds = ds.batch(32).prefetch(1)\n",
        "    forecast = model.predict(ds)\n",
        "    return forecast"
      ],
      "metadata": {
        "id": "QSW7ceWfynsX"
      },
      "execution_count": 21,
      "outputs": []
    },
    {
      "cell_type": "code",
      "source": [
        "train_set = windowed_dataset(y_train, window_size=64,\n",
        "                             batch_size=200,\n",
        "                             shuffle_buffer=1000)\n",
        "\n",
        "val_set = windowed_dataset(y_test, window_size=64,\n",
        "                           batch_size=200,\n",
        "                           shuffle_buffer=1000)\n",
        "\n",
        "model = tf.keras.models.Sequential([\n",
        "    tf.keras.layers.LSTM(60, return_sequences=True),\n",
        "    tf.keras.layers.LSTM(60),\n",
        "    tf.keras.layers.Dense(30, activation='relu'),\n",
        "    tf.keras.layers.Dense(10, activation='relu'),\n",
        "    tf.keras.layers.Dense(1)\n",
        "])"
      ],
      "metadata": {
        "id": "Zdkeqqprpcip"
      },
      "execution_count": 47,
      "outputs": []
    },
    {
      "cell_type": "code",
      "source": [
        "scale = (max(scaled_prices) - min(scaled_prices)) * 0.1\n",
        "print(scale)"
      ],
      "metadata": {
        "colab": {
          "base_uri": "https://localhost:8080/"
        },
        "id": "9Z3h1neipsKc",
        "outputId": "7a7dfa31-c4bb-421f-c548-d85df3f677f4"
      },
      "execution_count": 48,
      "outputs": [
        {
          "output_type": "stream",
          "name": "stdout",
          "text": [
            "0.1\n"
          ]
        }
      ]
    },
    {
      "cell_type": "markdown",
      "source": [
        "**Making Callbacks**"
      ],
      "metadata": {
        "id": "xqhM0yCT-mQ7"
      }
    },
    {
      "cell_type": "code",
      "source": [
        "class CallbackTS(tf.keras.callbacks.Callback):\n",
        "  def on_epoch_end(self, epoch, logs={}):\n",
        "    if(logs.get('mae')< scale) and (logs.get('val_mae') < scale):\n",
        "      self.model.stop_training = True\n",
        "      print('\\nFor Epoch', epoch, ' training has been stopped.''\\n Because MAE of the model has reach < 10% of data scale')\n",
        "callbacks = CallbackTS()"
      ],
      "metadata": {
        "id": "wH29P8USpr9_"
      },
      "execution_count": 49,
      "outputs": []
    },
    {
      "cell_type": "markdown",
      "source": [
        "**Train Model**"
      ],
      "metadata": {
        "id": "oK-IPamF_MA2"
      }
    },
    {
      "cell_type": "code",
      "source": [
        "optimizer = tf.keras.optimizers.SGD(lr=1.0000e-04, momentum=0.9)\n",
        "model.compile(loss=tf.keras.losses.Huber(),\n",
        "              optimizer=optimizer,\n",
        "              metrics=[\"mae\"])\n",
        "\n",
        "history = model.fit(train_set,\n",
        "                    epochs=100,\n",
        "                    validation_data=val_set, \n",
        "                    callbacks=[callbacks])"
      ],
      "metadata": {
        "colab": {
          "base_uri": "https://localhost:8080/"
        },
        "id": "RkNN6Itqpril",
        "outputId": "4a42d839-6fc6-4817-d6aa-189d8dd53b27"
      },
      "execution_count": 50,
      "outputs": [
        {
          "output_type": "stream",
          "name": "stdout",
          "text": [
            "Epoch 1/100\n",
            "23/23 [==============================] - 15s 231ms/step - loss: 0.0859 - mae: 0.3368 - val_loss: 0.2513 - val_mae: 0.6965\n",
            "Epoch 2/100\n",
            "23/23 [==============================] - 5s 188ms/step - loss: 0.0719 - mae: 0.3018 - val_loss: 0.2150 - val_mae: 0.6426\n",
            "Epoch 3/100\n",
            "23/23 [==============================] - 5s 221ms/step - loss: 0.0557 - mae: 0.2645 - val_loss: 0.1754 - val_mae: 0.5782\n",
            "Epoch 4/100\n",
            "23/23 [==============================] - 5s 193ms/step - loss: 0.0434 - mae: 0.2401 - val_loss: 0.1449 - val_mae: 0.5232\n",
            "Epoch 5/100\n",
            "23/23 [==============================] - 5s 195ms/step - loss: 0.0356 - mae: 0.2232 - val_loss: 0.1223 - val_mae: 0.4785\n",
            "Epoch 6/100\n",
            "23/23 [==============================] - 5s 192ms/step - loss: 0.0306 - mae: 0.2121 - val_loss: 0.1055 - val_mae: 0.4425\n",
            "Epoch 7/100\n",
            "23/23 [==============================] - 5s 191ms/step - loss: 0.0274 - mae: 0.2050 - val_loss: 0.0929 - val_mae: 0.4134\n",
            "Epoch 8/100\n",
            "23/23 [==============================] - 5s 190ms/step - loss: 0.0253 - mae: 0.1995 - val_loss: 0.0833 - val_mae: 0.3898\n",
            "Epoch 9/100\n",
            "23/23 [==============================] - 5s 189ms/step - loss: 0.0239 - mae: 0.1950 - val_loss: 0.0758 - val_mae: 0.3706\n",
            "Epoch 10/100\n",
            "23/23 [==============================] - 4s 185ms/step - loss: 0.0229 - mae: 0.1914 - val_loss: 0.0701 - val_mae: 0.3552\n",
            "Epoch 11/100\n",
            "23/23 [==============================] - 5s 190ms/step - loss: 0.0221 - mae: 0.1881 - val_loss: 0.0655 - val_mae: 0.3422\n",
            "Epoch 12/100\n",
            "23/23 [==============================] - 4s 186ms/step - loss: 0.0215 - mae: 0.1854 - val_loss: 0.0619 - val_mae: 0.3319\n",
            "Epoch 13/100\n",
            "23/23 [==============================] - 5s 188ms/step - loss: 0.0209 - mae: 0.1829 - val_loss: 0.0590 - val_mae: 0.3233\n",
            "Epoch 14/100\n",
            "23/23 [==============================] - 5s 187ms/step - loss: 0.0204 - mae: 0.1804 - val_loss: 0.0565 - val_mae: 0.3159\n",
            "Epoch 15/100\n",
            "23/23 [==============================] - 5s 187ms/step - loss: 0.0199 - mae: 0.1781 - val_loss: 0.0543 - val_mae: 0.3092\n",
            "Epoch 16/100\n",
            "23/23 [==============================] - 5s 188ms/step - loss: 0.0194 - mae: 0.1759 - val_loss: 0.0525 - val_mae: 0.3038\n",
            "Epoch 17/100\n",
            "23/23 [==============================] - 5s 190ms/step - loss: 0.0189 - mae: 0.1736 - val_loss: 0.0509 - val_mae: 0.2987\n",
            "Epoch 18/100\n",
            "23/23 [==============================] - 5s 193ms/step - loss: 0.0184 - mae: 0.1714 - val_loss: 0.0494 - val_mae: 0.2941\n",
            "Epoch 19/100\n",
            "23/23 [==============================] - 5s 195ms/step - loss: 0.0179 - mae: 0.1691 - val_loss: 0.0481 - val_mae: 0.2898\n",
            "Epoch 20/100\n",
            "23/23 [==============================] - 6s 231ms/step - loss: 0.0174 - mae: 0.1667 - val_loss: 0.0468 - val_mae: 0.2859\n",
            "Epoch 21/100\n",
            "23/23 [==============================] - 5s 191ms/step - loss: 0.0169 - mae: 0.1643 - val_loss: 0.0456 - val_mae: 0.2820\n",
            "Epoch 22/100\n",
            "23/23 [==============================] - 5s 193ms/step - loss: 0.0165 - mae: 0.1619 - val_loss: 0.0445 - val_mae: 0.2784\n",
            "Epoch 23/100\n",
            "23/23 [==============================] - 5s 192ms/step - loss: 0.0160 - mae: 0.1595 - val_loss: 0.0434 - val_mae: 0.2749\n",
            "Epoch 24/100\n",
            "23/23 [==============================] - 5s 189ms/step - loss: 0.0154 - mae: 0.1567 - val_loss: 0.0424 - val_mae: 0.2715\n",
            "Epoch 25/100\n",
            "23/23 [==============================] - 5s 192ms/step - loss: 0.0148 - mae: 0.1536 - val_loss: 0.0413 - val_mae: 0.2680\n",
            "Epoch 26/100\n",
            "23/23 [==============================] - 5s 191ms/step - loss: 0.0142 - mae: 0.1505 - val_loss: 0.0403 - val_mae: 0.2646\n",
            "Epoch 27/100\n",
            "23/23 [==============================] - 5s 189ms/step - loss: 0.0136 - mae: 0.1470 - val_loss: 0.0392 - val_mae: 0.2607\n",
            "Epoch 28/100\n",
            "23/23 [==============================] - 5s 189ms/step - loss: 0.0130 - mae: 0.1436 - val_loss: 0.0381 - val_mae: 0.2569\n",
            "Epoch 29/100\n",
            "23/23 [==============================] - 5s 190ms/step - loss: 0.0124 - mae: 0.1404 - val_loss: 0.0370 - val_mae: 0.2530\n",
            "Epoch 30/100\n",
            "23/23 [==============================] - 5s 191ms/step - loss: 0.0119 - mae: 0.1374 - val_loss: 0.0359 - val_mae: 0.2489\n",
            "Epoch 31/100\n",
            "23/23 [==============================] - 5s 196ms/step - loss: 0.0115 - mae: 0.1347 - val_loss: 0.0348 - val_mae: 0.2449\n",
            "Epoch 32/100\n",
            "23/23 [==============================] - 5s 195ms/step - loss: 0.0111 - mae: 0.1322 - val_loss: 0.0337 - val_mae: 0.2409\n",
            "Epoch 33/100\n",
            "23/23 [==============================] - 5s 193ms/step - loss: 0.0107 - mae: 0.1297 - val_loss: 0.0326 - val_mae: 0.2367\n",
            "Epoch 34/100\n",
            "23/23 [==============================] - 5s 188ms/step - loss: 0.0103 - mae: 0.1273 - val_loss: 0.0316 - val_mae: 0.2328\n",
            "Epoch 35/100\n",
            "23/23 [==============================] - 5s 190ms/step - loss: 0.0099 - mae: 0.1249 - val_loss: 0.0307 - val_mae: 0.2292\n",
            "Epoch 36/100\n",
            "23/23 [==============================] - 5s 192ms/step - loss: 0.0095 - mae: 0.1225 - val_loss: 0.0297 - val_mae: 0.2254\n",
            "Epoch 37/100\n",
            "23/23 [==============================] - 5s 205ms/step - loss: 0.0092 - mae: 0.1201 - val_loss: 0.0288 - val_mae: 0.2216\n",
            "Epoch 38/100\n",
            "23/23 [==============================] - 5s 199ms/step - loss: 0.0088 - mae: 0.1178 - val_loss: 0.0279 - val_mae: 0.2179\n",
            "Epoch 39/100\n",
            "23/23 [==============================] - 5s 197ms/step - loss: 0.0085 - mae: 0.1154 - val_loss: 0.0270 - val_mae: 0.2143\n",
            "Epoch 40/100\n",
            "23/23 [==============================] - 5s 189ms/step - loss: 0.0082 - mae: 0.1131 - val_loss: 0.0262 - val_mae: 0.2107\n",
            "Epoch 41/100\n",
            "23/23 [==============================] - 5s 193ms/step - loss: 0.0079 - mae: 0.1109 - val_loss: 0.0254 - val_mae: 0.2074\n",
            "Epoch 42/100\n",
            "23/23 [==============================] - 5s 193ms/step - loss: 0.0076 - mae: 0.1086 - val_loss: 0.0246 - val_mae: 0.2040\n",
            "Epoch 43/100\n",
            "23/23 [==============================] - 5s 198ms/step - loss: 0.0073 - mae: 0.1064 - val_loss: 0.0239 - val_mae: 0.2007\n",
            "Epoch 44/100\n",
            "23/23 [==============================] - 5s 197ms/step - loss: 0.0070 - mae: 0.1041 - val_loss: 0.0231 - val_mae: 0.1973\n",
            "Epoch 45/100\n",
            "23/23 [==============================] - 5s 203ms/step - loss: 0.0067 - mae: 0.1020 - val_loss: 0.0225 - val_mae: 0.1942\n",
            "Epoch 46/100\n",
            "23/23 [==============================] - 5s 194ms/step - loss: 0.0065 - mae: 0.0998 - val_loss: 0.0217 - val_mae: 0.1909\n",
            "Epoch 47/100\n",
            "23/23 [==============================] - 5s 192ms/step - loss: 0.0062 - mae: 0.0977 - val_loss: 0.0211 - val_mae: 0.1877\n",
            "Epoch 48/100\n",
            "23/23 [==============================] - 5s 194ms/step - loss: 0.0060 - mae: 0.0957 - val_loss: 0.0205 - val_mae: 0.1848\n",
            "Epoch 49/100\n",
            "23/23 [==============================] - 5s 195ms/step - loss: 0.0058 - mae: 0.0936 - val_loss: 0.0199 - val_mae: 0.1817\n",
            "Epoch 50/100\n",
            "23/23 [==============================] - 5s 194ms/step - loss: 0.0055 - mae: 0.0917 - val_loss: 0.0193 - val_mae: 0.1788\n",
            "Epoch 51/100\n",
            "23/23 [==============================] - 5s 200ms/step - loss: 0.0053 - mae: 0.0896 - val_loss: 0.0187 - val_mae: 0.1759\n",
            "Epoch 52/100\n",
            "23/23 [==============================] - 6s 242ms/step - loss: 0.0051 - mae: 0.0875 - val_loss: 0.0181 - val_mae: 0.1730\n",
            "Epoch 53/100\n",
            "23/23 [==============================] - 5s 193ms/step - loss: 0.0048 - mae: 0.0855 - val_loss: 0.0176 - val_mae: 0.1702\n",
            "Epoch 54/100\n",
            "23/23 [==============================] - 5s 203ms/step - loss: 0.0046 - mae: 0.0834 - val_loss: 0.0170 - val_mae: 0.1674\n",
            "Epoch 55/100\n",
            "23/23 [==============================] - 5s 199ms/step - loss: 0.0044 - mae: 0.0815 - val_loss: 0.0165 - val_mae: 0.1646\n",
            "Epoch 56/100\n",
            "23/23 [==============================] - 5s 192ms/step - loss: 0.0042 - mae: 0.0795 - val_loss: 0.0160 - val_mae: 0.1618\n",
            "Epoch 57/100\n",
            "23/23 [==============================] - 5s 190ms/step - loss: 0.0040 - mae: 0.0775 - val_loss: 0.0155 - val_mae: 0.1589\n",
            "Epoch 58/100\n",
            "23/23 [==============================] - 5s 193ms/step - loss: 0.0038 - mae: 0.0756 - val_loss: 0.0150 - val_mae: 0.1560\n",
            "Epoch 59/100\n",
            "23/23 [==============================] - 5s 199ms/step - loss: 0.0037 - mae: 0.0736 - val_loss: 0.0145 - val_mae: 0.1534\n",
            "Epoch 60/100\n",
            "23/23 [==============================] - 5s 189ms/step - loss: 0.0035 - mae: 0.0717 - val_loss: 0.0140 - val_mae: 0.1506\n",
            "Epoch 61/100\n",
            "23/23 [==============================] - 5s 187ms/step - loss: 0.0033 - mae: 0.0698 - val_loss: 0.0136 - val_mae: 0.1479\n",
            "Epoch 62/100\n",
            "23/23 [==============================] - 5s 186ms/step - loss: 0.0031 - mae: 0.0679 - val_loss: 0.0131 - val_mae: 0.1452\n",
            "Epoch 63/100\n",
            "23/23 [==============================] - 4s 186ms/step - loss: 0.0030 - mae: 0.0661 - val_loss: 0.0127 - val_mae: 0.1426\n",
            "Epoch 64/100\n",
            "23/23 [==============================] - 5s 188ms/step - loss: 0.0028 - mae: 0.0642 - val_loss: 0.0123 - val_mae: 0.1399\n",
            "Epoch 65/100\n",
            "23/23 [==============================] - 5s 192ms/step - loss: 0.0027 - mae: 0.0625 - val_loss: 0.0119 - val_mae: 0.1374\n",
            "Epoch 66/100\n",
            "23/23 [==============================] - 5s 191ms/step - loss: 0.0026 - mae: 0.0608 - val_loss: 0.0115 - val_mae: 0.1346\n",
            "Epoch 67/100\n",
            "23/23 [==============================] - 5s 188ms/step - loss: 0.0024 - mae: 0.0593 - val_loss: 0.0111 - val_mae: 0.1320\n",
            "Epoch 68/100\n",
            "23/23 [==============================] - 5s 189ms/step - loss: 0.0023 - mae: 0.0578 - val_loss: 0.0107 - val_mae: 0.1295\n",
            "Epoch 69/100\n",
            "23/23 [==============================] - 5s 191ms/step - loss: 0.0022 - mae: 0.0563 - val_loss: 0.0103 - val_mae: 0.1270\n",
            "Epoch 70/100\n",
            "23/23 [==============================] - 5s 189ms/step - loss: 0.0021 - mae: 0.0549 - val_loss: 0.0100 - val_mae: 0.1246\n",
            "Epoch 71/100\n",
            "23/23 [==============================] - 5s 192ms/step - loss: 0.0020 - mae: 0.0535 - val_loss: 0.0097 - val_mae: 0.1223\n",
            "Epoch 72/100\n",
            "23/23 [==============================] - 5s 229ms/step - loss: 0.0019 - mae: 0.0522 - val_loss: 0.0094 - val_mae: 0.1200\n",
            "Epoch 73/100\n",
            "23/23 [==============================] - 5s 189ms/step - loss: 0.0019 - mae: 0.0509 - val_loss: 0.0091 - val_mae: 0.1179\n",
            "Epoch 74/100\n",
            "23/23 [==============================] - 5s 192ms/step - loss: 0.0018 - mae: 0.0496 - val_loss: 0.0088 - val_mae: 0.1161\n",
            "Epoch 75/100\n",
            "23/23 [==============================] - 5s 186ms/step - loss: 0.0017 - mae: 0.0483 - val_loss: 0.0085 - val_mae: 0.1140\n",
            "Epoch 76/100\n",
            "23/23 [==============================] - 5s 190ms/step - loss: 0.0016 - mae: 0.0471 - val_loss: 0.0083 - val_mae: 0.1121\n",
            "Epoch 77/100\n",
            "23/23 [==============================] - 5s 193ms/step - loss: 0.0015 - mae: 0.0459 - val_loss: 0.0080 - val_mae: 0.1101\n",
            "Epoch 78/100\n",
            "23/23 [==============================] - 5s 194ms/step - loss: 0.0015 - mae: 0.0447 - val_loss: 0.0078 - val_mae: 0.1082\n",
            "Epoch 79/100\n",
            "23/23 [==============================] - 5s 189ms/step - loss: 0.0014 - mae: 0.0436 - val_loss: 0.0076 - val_mae: 0.1063\n",
            "Epoch 80/100\n",
            "23/23 [==============================] - 5s 189ms/step - loss: 0.0013 - mae: 0.0425 - val_loss: 0.0074 - val_mae: 0.1046\n",
            "Epoch 81/100\n",
            "23/23 [==============================] - 5s 188ms/step - loss: 0.0013 - mae: 0.0415 - val_loss: 0.0071 - val_mae: 0.1028\n",
            "Epoch 82/100\n",
            "23/23 [==============================] - 4s 186ms/step - loss: 0.0012 - mae: 0.0404 - val_loss: 0.0070 - val_mae: 0.1012\n",
            "Epoch 83/100\n",
            "23/23 [==============================] - ETA: 0s - loss: 0.0012 - mae: 0.0394\n",
            "For Epoch 82  training has been stopped.\n",
            " Because MAE of the model has reach < 10% of data scale\n",
            "23/23 [==============================] - 5s 192ms/step - loss: 0.0012 - mae: 0.0394 - val_loss: 0.0068 - val_mae: 0.0996\n"
          ]
        }
      ]
    },
    {
      "cell_type": "markdown",
      "source": [
        "**Mae plot visualisation**"
      ],
      "metadata": {
        "id": "oRXiEF2x_Qjx"
      }
    },
    {
      "cell_type": "code",
      "source": [
        "plt.plot(history.history['mae'])\n",
        "plt.plot(history.history['val_mae'])\n",
        "plt.title('Model Accuracy')\n",
        "plt.ylabel('Mae')\n",
        "plt.xlabel('epochs')\n",
        "plt.legend(['Train', 'Val'], loc='upper right')\n",
        "plt.show()"
      ],
      "metadata": {
        "colab": {
          "base_uri": "https://localhost:8080/",
          "height": 295
        },
        "id": "qGA-pvp-oYLA",
        "outputId": "3e0301eb-12dd-4765-94fb-5bcba74b9b87"
      },
      "execution_count": 51,
      "outputs": [
        {
          "output_type": "display_data",
          "data": {
            "text/plain": [
              "<Figure size 432x288 with 1 Axes>"
            ],
            "image/png": "[encoded data removed]"
          },
          "metadata": {
            "needs_background": "light"
          }
        }
      ]
    },
    {
      "cell_type": "markdown",
      "source": [
        "**Loss plot Visualisation**"
      ],
      "metadata": {
        "id": "xag7JhM0_bc-"
      }
    },
    {
      "cell_type": "code",
      "source": [
        "plt.plot(history.history['loss'])\n",
        "plt.plot(history.history['val_loss'])\n",
        "plt.title('Loss Model')\n",
        "plt.ylabel('loss')\n",
        "plt.xlabel('epochs')\n",
        "plt.legend(['Train', 'Val'], loc='upper right')\n",
        "plt.show()"
      ],
      "metadata": {
        "id": "xnaONmCjfhBm",
        "colab": {
          "base_uri": "https://localhost:8080/",
          "height": 295
        },
        "outputId": "6b6727db-ceb1-4f7e-a266-7170ed4e73e9"
      },
      "execution_count": 52,
      "outputs": [
        {
          "output_type": "display_data",
          "data": {
            "text/plain": [
              "<Figure size 432x288 with 1 Axes>"
            ],
            "image/png": "[encoded data removed]"
          },
          "metadata": {
            "needs_background": "light"
          }
        }
      ]
    }
  ]
}